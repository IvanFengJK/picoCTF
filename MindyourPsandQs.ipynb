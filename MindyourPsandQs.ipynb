{
 "cells": [
  {
   "cell_type": "code",
   "execution_count": 26,
   "metadata": {},
   "outputs": [],
   "source": [
    "p = 431899300006243611356963607089521499045809\n",
    "q = 1461849912200000206276283741896701133693"
   ]
  },
  {
   "cell_type": "code",
   "execution_count": 27,
   "metadata": {},
   "outputs": [
    {
     "data": {
      "text/plain": [
       "631371953793368771804570727896887140714495090919073481680274581226742748040342637"
      ]
     },
     "execution_count": 27,
     "metadata": {},
     "output_type": "execute_result"
    }
   ],
   "source": [
    "p*q"
   ]
  },
  {
   "cell_type": "code",
   "execution_count": 28,
   "metadata": {},
   "outputs": [],
   "source": [
    "c = 421345306292040663864066688931456845278496274597031632020995583473619804626233684\n",
    "n = 631371953793368771804570727896887140714495090919073481680274581226742748040342637\n",
    "e = 65537"
   ]
  },
  {
   "cell_type": "code",
   "execution_count": 29,
   "metadata": {},
   "outputs": [],
   "source": [
    "phi_n = (p-1)*(q-1) "
   ]
  },
  {
   "cell_type": "code",
   "execution_count": 30,
   "metadata": {},
   "outputs": [],
   "source": [
    "from Crypto.Util.number import inverse, long_to_bytes"
   ]
  },
  {
   "cell_type": "code",
   "execution_count": 31,
   "metadata": {},
   "outputs": [
    {
     "data": {
      "text/plain": [
       "86820026055294556838164569629472617179839240561509150603097892917271661878321409"
      ]
     },
     "execution_count": 31,
     "metadata": {},
     "output_type": "execute_result"
    }
   ],
   "source": [
    "inverse(e, phi_n)"
   ]
  },
  {
   "cell_type": "code",
   "execution_count": 24,
   "metadata": {},
   "outputs": [],
   "source": [
    "inverse = 86820026055294556838164569629472617179839240561509150603097892917271661878321409\n"
   ]
  },
  {
   "cell_type": "code",
   "execution_count": 25,
   "metadata": {},
   "outputs": [],
   "source": [
    "d = pow(c,inverse,n)"
   ]
  },
  {
   "cell_type": "code",
   "execution_count": 17,
   "metadata": {},
   "outputs": [
    {
     "name": "stdout",
     "output_type": "stream",
     "text": [
      "/home/elwin/.local/lib/python3.8/site-packages/pkg_resources/__init__.py:116: PkgResourcesDeprecationWarning: 0.1.36ubuntu1 is an invalid version and will not be supported in a future release\n",
      "  warnings.warn(\n",
      "/home/elwin/.local/lib/python3.8/site-packages/pkg_resources/__init__.py:116: PkgResourcesDeprecationWarning: 0.23ubuntu1 is an invalid version and will not be supported in a future release\n",
      "  warnings.warn(\n",
      "Collecting pycryptodome\n",
      "  Downloading pycryptodome-3.15.0-cp35-abi3-manylinux2010_x86_64.whl (2.3 MB)\n",
      "\u001b[K     |████████████████████████████████| 2.3 MB 8.2 MB/s eta 0:00:01\n",
      "\u001b[?25hInstalling collected packages: pycryptodome\n",
      "Successfully installed pycryptodome-3.15.0\n"
     ]
    }
   ],
   "source": [
    "! pip install pycryptodome"
   ]
  },
  {
   "cell_type": "code",
   "execution_count": 7,
   "metadata": {},
   "outputs": [],
   "source": [
    "from Crypto.Util.number import inverse, long_to_bytes"
   ]
  },
  {
   "cell_type": "code",
   "execution_count": 8,
   "metadata": {},
   "outputs": [
    {
     "name": "stdout",
     "output_type": "stream",
     "text": [
      "b\"\\x01\\xeb\\xabE\\xfa \\x8b^\\x93Z\\xb1BQL^\\xd2j:\\xdf\\xa2\\xd7\\x8asK\\x1d\\xe5\\xbfV\\x0e\\xcd\\x1e!d2\\x1fj\\x9c\\xed\\x9d\\xd6n\\x96\\x07\\xc0,\\xd0O'\\xc7\\xc1+Z^\\xbfln9\\x80\\xcd\\x11\\x99\\x96(\\xf7\\xd1\\x8b\\xcb\\xbf'\\xd5\\xf3\\xc3\\x1b\\x9a!\\xbb\\x9d\\xb4\\x7f\\xdb\\xde\\xcfU\\x0f\\xee\\xfd#Hl6d\\xe0\\xe3Y\\xc9,\\x8bh\\xd3\\x8eZW\\xbeQ\\x90\\xf9%o\\xa5\\x16\\x80\\xbdy\\xd16X6\\xf0\\xce\\x1e\\xfa\\xcf\\xedN\\xde*\\xde\\\\_\\nw;\\xa7\\xfe\\x808\\xad7\\xa1 \"\n"
     ]
    }
   ],
   "source": [
    "print(long_to_bytes(106853332652432478823479268251952762332539847111872583298926285910844066620524275860449200877961470156007933663569740467088542775307801035926875522276491129471033754427069136664680585101128413760373262347104521736750958041229560781277160132457139060114077575090698553884062695463643144131656598068508777247965320804974742245687176962336))"
   ]
  },
  {
   "cell_type": "code",
   "execution_count": 14,
   "metadata": {},
   "outputs": [],
   "source": [
    "N = 1615765684321463054078226051959887884233678317734892901740763321135213636796075462401950274602405095138589898087428337758445013281488966866073355710771864671726991918706558071231266976427184673800225254531695928541272546385146495736420261815693810544589811104967829354461491178200126099661909654163542661541699404839644035177445092988952614918424317082380174383819025585076206641993479326576180793544321194357018916215113009742654408597083724508169216182008449693917227497813165444372201517541788989925461711067825681947947471001390843774746442699739386923285801022685451221261010798837646928092277556198145662924691803032880040492762442561497760689933601781401617086600593482127465655390841361154025890679757514060456103104199255917164678161972735858939464790960448345988941481499050248673128656508055285037090026439683847266536283160142071643015434813473463469733112182328678706702116054036618277506997666534567846763938692335069955755244438415377933440029498378955355877502743215305768814857864433151287"
   ]
  },
  {
   "cell_type": "code",
   "execution_count": 9,
   "metadata": {},
   "outputs": [],
   "source": [
    "c =  1220012318588871886132524757898884422174534558055593713309088304910273991073554732659977133980685370899257850121970812405700793710546674062154237544840177616746805668666317481140872605653768484867292138139949076102907399831998827567645230986345455915692863094364797526497302082734955903755050638155202890599808147130204332030239454609548193370732857240300019596815816006860639254992255194738107991811397196500685989396810773222940007523267032630601449381770324467476670441511297695830038371195786166055669921467988355155696963689199852044947912413082022187178952733134865103084455914904057821890898745653261258346107276390058792338949223415878232277034434046142510780902482500716765933896331360282637705554071922268580430157241598567522324772752885039646885713317810775113741411461898837845999905524246804112266440620557624165618470709586812253893125417659761396612984740891016230905299327084673080946823376058367658665796414168107502482827882764000030048859751949099453053128663379477059252309685864790106"
   ]
  },
  {
   "cell_type": "code",
   "execution_count": 10,
   "metadata": {},
   "outputs": [],
   "source": [
    "def find_invpow(x,n):\n",
    "    \"\"\"Finds the integer component of the n'th root of x,\n",
    "    an integer such that y ** n <= x < (y + 1) ** n.\n",
    "    \"\"\"\n",
    "    high = 1\n",
    "    while high ** n < x:\n",
    "        high *= 2\n",
    "    low = high//2\n",
    "    while low < high:\n",
    "        mid = (low + high) // 2\n",
    "        if low < mid and mid**n < x:\n",
    "            low = mid\n",
    "        elif high > mid and mid**n > x:\n",
    "            high = mid\n",
    "        else:\n",
    "            return mid\n",
    "    return mid + 1"
   ]
  },
  {
   "cell_type": "code",
   "execution_count": 19,
   "metadata": {},
   "outputs": [],
   "source": [
    "cube_root = find_invpow(c + N*3, 3)"
   ]
  },
  {
   "cell_type": "code",
   "execution_count": 20,
   "metadata": {},
   "outputs": [
    {
     "data": {
      "text/plain": [
       "b'\\x03G<\\x1d\\xe6\\xf6*k\\x86H\\xf5\\t\\x93\\x8a\\xaa\\x1f\\xa7\\x07F\\xda\\x11|\\x8f\\\\\\xf8\\xc0\\xa6bl;\\xedX\\xd7F<\\x95\\x997zr\\x8d\\xe2\\xf3WU5\\xbc\\x1c\\xbf\\x96\\x9f\\xd0\\xdc8\\x19\\x14\\x9d6\\x15\\xd4W\\xd0\\xdf\\xbd\\xd0\\x8e\\xd09\\xae\\xc1\\x159E\\xc7\\x92\\xb7\\xc8\\xcc\\xe8\\xd6@+\\x13k\\xffx\\xe2\\x92Q\\x93\\xabV\\xb6\\xabw\\xa9\\xa6\\xc0D\\x89\\x9c\\x9d\\xa6\\xd5kXz\\xe5Y \\xf78\\x07\\x91\\xbc\\xcaF\\xef\\x88\\xff-@\\xde\\xe1V\\xf3\\x0c\\xbf\\xbe\\xe7\\xab`\\xef\\x04`\\xf1\\xd0h\\x11\\xcc'"
      ]
     },
     "execution_count": 20,
     "metadata": {},
     "output_type": "execute_result"
    }
   ],
   "source": [
    "long_to_bytes(cube_root)"
   ]
  },
  {
   "cell_type": "code",
   "execution_count": 21,
   "metadata": {},
   "outputs": [
    {
     "name": "stdout",
     "output_type": "stream",
     "text": [
      "Collecting gmpy2\n",
      "  Downloading gmpy2-2.1.2-cp38-cp38-manylinux_2_17_x86_64.manylinux2014_x86_64.whl (3.6 MB)\n",
      "\u001b[K     |████████████████████████████████| 3.6 MB 4.9 MB/s eta 0:00:01\n",
      "\u001b[?25hInstalling collected packages: gmpy2\n",
      "Successfully installed gmpy2-2.1.2\n",
      "Note: you may need to restart the kernel to use updated packages.\n"
     ]
    }
   ],
   "source": [
    "pip install gmpy2"
   ]
  },
  {
   "cell_type": "code",
   "execution_count": 25,
   "metadata": {},
   "outputs": [
    {
     "name": "stdout",
     "output_type": "stream",
     "text": [
      "Found i = 3533\n",
      "b'                                                                                                        picoCTF{e_sh0u1d_b3_lArg3r_7adb35b1}'\n"
     ]
    }
   ],
   "source": [
    "import gmpy2\n",
    "\n",
    "\n",
    "e = 3\n",
    "\n",
    "for i in range(10000):\n",
    "    m, is_true_root = gmpy2.iroot(i*N + c, e)\n",
    "    if is_true_root:\n",
    "        print(f\"Found i = {i}\")\n",
    "        print(long_to_bytes(m))\n",
    "        break"
   ]
  },
  {
   "cell_type": "code",
   "execution_count": 32,
   "metadata": {},
   "outputs": [],
   "source": [
    "c = 2205316413931134031074603746928247799030155221252519872650080519263755075355825243327515211479747536697517688468095325517209911688684309894900992899707504087647575997847717180766377832435022794675332132906451858990782325436498952049751141 "
   ]
  },
  {
   "cell_type": "code",
   "execution_count": 33,
   "metadata": {},
   "outputs": [
    {
     "data": {
      "text/plain": [
       "13016382529449106065894479374027604750406953699090365388203722801043052339225981"
      ]
     },
     "execution_count": 33,
     "metadata": {},
     "output_type": "execute_result"
    }
   ],
   "source": [
    "find_invpow(c, 3)"
   ]
  },
  {
   "cell_type": "code",
   "execution_count": 34,
   "metadata": {},
   "outputs": [
    {
     "data": {
      "text/plain": [
       "b'picoCTF{n33d_a_lArg3r_e_d0cd6eae}'"
      ]
     },
     "execution_count": 34,
     "metadata": {},
     "output_type": "execute_result"
    }
   ],
   "source": [
    "long_to_bytes(find_invpow(c, 3))"
   ]
  },
  {
   "cell_type": "code",
   "execution_count": null,
   "metadata": {},
   "outputs": [],
   "source": [
    "def encryptRailFence(text, key):\n",
    " \n",
    "    # create the matrix to cipher\n",
    "    # plain text key = rows ,\n",
    "    # length(text) = columns\n",
    "    # filling the rail matrix\n",
    "    # to distinguish filled\n",
    "    # spaces from blank ones\n",
    "    rail = [['\\n' for i in range(len(text))]\n",
    "                  for j in range(key)]\n",
    "     \n",
    "    # to find the direction\n",
    "    dir_down = False\n",
    "    row, col = 0, 0\n",
    "     \n",
    "    for i in range(len(text)):\n",
    "         \n",
    "        # check the direction of flow\n",
    "        # reverse the direction if we've just\n",
    "        # filled the top or bottom rail\n",
    "        if (row == 0) or (row == key - 1):\n",
    "            dir_down = not dir_down\n",
    "         \n",
    "        # fill the corresponding alphabet\n",
    "        rail[row][col] = text[i]\n",
    "        col += 1\n",
    "         \n",
    "        # find the next row using\n",
    "        # direction flag\n",
    "        if dir_down:\n",
    "            row += 1\n",
    "        else:\n",
    "            row -= 1\n",
    "    # now we can construct the cipher\n",
    "    # using the rail matrix\n",
    "    result = []\n",
    "    for i in range(key):\n",
    "        for j in range(len(text)):\n",
    "            if rail[i][j] != '\\n':\n",
    "                result.append(rail[i][j])\n",
    "    return(\"\" . join(result))\n",
    "     \n",
    "# This function receives cipher-text\n",
    "# and key and returns the original\n",
    "# text after decryption\n",
    "def decryptRailFence(cipher, key):\n",
    " \n",
    "    # create the matrix to cipher\n",
    "    # plain text key = rows ,\n",
    "    # length(text) = columns\n",
    "    # filling the rail matrix to\n",
    "    # distinguish filled spaces\n",
    "    # from blank ones\n",
    "    rail = [['\\n' for i in range(len(cipher))]\n",
    "                  for j in range(key)]\n",
    "     \n",
    "    # to find the direction\n",
    "    dir_down = None\n",
    "    row, col = 0, 0\n",
    "     \n",
    "    # mark the places with '*'\n",
    "    for i in range(len(cipher)):\n",
    "        if row == 0:\n",
    "            dir_down = True\n",
    "        if row == key - 1:\n",
    "            dir_down = False\n",
    "         \n",
    "        # place the marker\n",
    "        rail[row][col] = '*'\n",
    "        col += 1\n",
    "         \n",
    "        # find the next row\n",
    "        # using direction flag\n",
    "        if dir_down:\n",
    "            row += 1\n",
    "        else:\n",
    "            row -= 1\n",
    "             \n",
    "    # now we can construct the\n",
    "    # fill the rail matrix\n",
    "    index = 0\n",
    "    for i in range(key):\n",
    "        for j in range(len(cipher)):\n",
    "            if ((rail[i][j] == '*') and\n",
    "               (index < len(cipher))):\n",
    "                rail[i][j] = cipher[index]\n",
    "                index += 1\n",
    "         \n",
    "    # now read the matrix in\n",
    "    # zig-zag manner to construct\n",
    "    # the resultant text\n",
    "    result = []\n",
    "    row, col = 0, 0\n",
    "    for i in range(len(cipher)):\n",
    "         \n",
    "        # check the direction of flow\n",
    "        if row == 0:\n",
    "            dir_down = True\n",
    "        if row == key-1:\n",
    "            dir_down = False\n",
    "             \n",
    "        # place the marker\n",
    "        if (rail[row][col] != '*'):\n",
    "            result.append(rail[row][col])\n",
    "            col += 1\n",
    "             \n",
    "        # find the next row using\n",
    "        # direction flag\n",
    "        if dir_down:\n",
    "            row += 1\n",
    "        else:\n",
    "            row -= 1\n",
    "    return(\"\".join(result))\n",
    " \n",
    "# Driver code\n",
    "if __name__ == \"__main__\":\n",
    "    # Now decryption of the\n",
    "    # same cipher-text\n",
    "    e = ''\n",
    "    print(decryptRailFence(\"GsGsekfrek eoe\", 3))\n",
    "    print(decryptRailFence(\"atc toctaka ne\", 2))\n",
    "    print(decryptRailFence(\"dnhaweedtees alf tl\", 3))"
   ]
  }
 ],
 "metadata": {
  "kernelspec": {
   "display_name": "Python 3.8.10 64-bit",
   "language": "python",
   "name": "python3"
  },
  "language_info": {
   "codemirror_mode": {
    "name": "ipython",
    "version": 3
   },
   "file_extension": ".py",
   "mimetype": "text/x-python",
   "name": "python",
   "nbconvert_exporter": "python",
   "pygments_lexer": "ipython3",
   "version": "3.8.10"
  },
  "orig_nbformat": 4,
  "vscode": {
   "interpreter": {
    "hash": "31f2aee4e71d21fbe5cf8b01ff0e069b9275f58929596ceb00d14d90e3e16cd6"
   }
  }
 },
 "nbformat": 4,
 "nbformat_minor": 2
}
