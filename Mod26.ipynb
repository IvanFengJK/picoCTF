{
 "cells": [
  {
   "cell_type": "code",
   "execution_count": 1,
   "metadata": {},
   "outputs": [],
   "source": [
    "encrypted_str = \"cvpbPGS{arkg_gvzr_V'yy_gel_2_ebhaqf_bs_ebg13_uJdSftmh}\""
   ]
  },
  {
   "cell_type": "code",
   "execution_count": 14,
   "metadata": {},
   "outputs": [
    {
     "name": "stdout",
     "output_type": "stream",
     "text": [
      "picoCTF{next_time_I'll_try_2_rounds_of_rot13_hWqFsgzu}"
     ]
    }
   ],
   "source": [
    "for char in encrypted_str:\n",
    "    rot = 13\n",
    "    if char.isalpha():\n",
    "        if char.isupper():\n",
    "            index = ord(char)\n",
    "            offset = (index + rot -ord('A'))%26\n",
    "            new_char = chr(offset + ord('A'))\n",
    "            print(new_char, end = '')\n",
    "        if char.islower():\n",
    "            index = ord(char)\n",
    "            offset = (index + rot - ord('a'))%26\n",
    "            new_char = chr(offset + ord('a'))\n",
    "            print(new_char, end = '')\n",
    "    else:\n",
    "        print(char, end = '')"
   ]
  }
 ],
 "metadata": {
  "kernelspec": {
   "display_name": "Python 3.8.10 64-bit",
   "language": "python",
   "name": "python3"
  },
  "language_info": {
   "codemirror_mode": {
    "name": "ipython",
    "version": 3
   },
   "file_extension": ".py",
   "mimetype": "text/x-python",
   "name": "python",
   "nbconvert_exporter": "python",
   "pygments_lexer": "ipython3",
   "version": "3.8.10"
  },
  "orig_nbformat": 4,
  "vscode": {
   "interpreter": {
    "hash": "31f2aee4e71d21fbe5cf8b01ff0e069b9275f58929596ceb00d14d90e3e16cd6"
   }
  }
 },
 "nbformat": 4,
 "nbformat_minor": 2
}
