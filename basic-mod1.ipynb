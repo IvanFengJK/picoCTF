{
 "cells": [
  {
   "cell_type": "code",
   "execution_count": 14,
   "metadata": {},
   "outputs": [],
   "source": [
    "ls = [268,413,110,190,426,419,108,229,310,379,323,373,385,236,92,96,169,321,284,185,154,137,186]"
   ]
  },
  {
   "cell_type": "code",
   "execution_count": 25,
   "metadata": {},
   "outputs": [
    {
     "name": "stdout",
     "output_type": "stream",
     "text": [
      "1nv3r53ly_h4rd_c680bdc1\n"
     ]
    }
   ],
   "source": [
    "import string\n",
    "\n",
    "alphabet = string.ascii_lowercase\n",
    "alphabet += \"0123456789_\"\n",
    "flag_enc = ls\n",
    "\n",
    "flag = \"\"\n",
    "for c in flag_enc: \n",
    "    pos = pow(c, -1, 41)\n",
    "    flag += alphabet[pos-1]\n",
    "\n",
    "print(flag)"
   ]
  },
  {
   "cell_type": "code",
   "execution_count": 17,
   "metadata": {},
   "outputs": [],
   "source": [
    "from Crypto.Util.number import inverse, long_to_bytes"
   ]
  },
  {
   "cell_type": "code",
   "execution_count": 28,
   "metadata": {},
   "outputs": [
    {
     "name": "stdout",
     "output_type": "stream",
     "text": [
      "1nv3r53ly_h4rd_c680bdc1"
     ]
    }
   ],
   "source": [
    "for l in ls:\n",
    "    l = l%41\n",
    "    l = inverse(l, 41)\n",
    "    # print(l)\n",
    "    if l <= 26 and l > 0:\n",
    "        l = chr(l-1 + ord('a'))\n",
    "    elif l <= 36 and l >= 27:\n",
    "        l = l - 27\n",
    "    elif l == 37:\n",
    "        l = '_'\n",
    "    else:\n",
    "        l = '?'\n",
    "    print(str(l), end = '')"
   ]
  },
  {
   "cell_type": "code",
   "execution_count": 8,
   "metadata": {},
   "outputs": [
    {
     "name": "stdout",
     "output_type": "stream",
     "text": [
      "jqxz\n"
     ]
    }
   ],
   "source": [
    "MAX_CHAR = 26\n",
    " \n",
    "# Returns characters that needs\n",
    "# to be added to make str\n",
    "def missingChars(Str):\n",
    "     \n",
    "    # A boolean array to store characters\n",
    "    # present in string.\n",
    "    present = [False for i in range(MAX_CHAR)]\n",
    " \n",
    "    # Traverse string and mark characters\n",
    "    # present in string.\n",
    "    for i in range(len(Str)):\n",
    "        if (Str[i] >= 'a' and Str[i] <= 'z'):\n",
    "            present[ord(Str[i]) - ord('a')] = True\n",
    "        elif (Str[i] >= 'A' and Str[i] <= 'Z'):\n",
    "            present[ord(Str[i]) - ord('A')] = True\n",
    " \n",
    "    # Store missing characters in alphabetic\n",
    "    # order.\n",
    "    res = \"\"\n",
    " \n",
    "    for i in range(MAX_CHAR):\n",
    "        if (present[i] == False):\n",
    "            res += chr(i + ord('a'))\n",
    "             \n",
    "    return res\n",
    " \n",
    "# Driver code\n",
    "Str = \"gfitovwcsduylkhmebranp\"\n",
    " \n",
    "print(missingChars(Str))"
   ]
  },
  {
   "cell_type": "code",
   "execution_count": 9,
   "metadata": {},
   "outputs": [],
   "source": [
    "string = 'e m h 4 t b h 4 7 h d s t t o 0 u 9 h 7'"
   ]
  },
  {
   "cell_type": "code",
   "execution_count": 11,
   "metadata": {},
   "outputs": [
    {
     "data": {
      "text/plain": [
       "'emh4tbh47hdstto0u9h7'"
      ]
     },
     "execution_count": 11,
     "metadata": {},
     "output_type": "execute_result"
    }
   ],
   "source": [
    "string.replace(' ','')"
   ]
  },
  {
   "cell_type": "code",
   "execution_count": null,
   "metadata": {},
   "outputs": [],
   "source": []
  }
 ],
 "metadata": {
  "kernelspec": {
   "display_name": "Python 3.8.10 64-bit",
   "language": "python",
   "name": "python3"
  },
  "language_info": {
   "codemirror_mode": {
    "name": "ipython",
    "version": 3
   },
   "file_extension": ".py",
   "mimetype": "text/x-python",
   "name": "python",
   "nbconvert_exporter": "python",
   "pygments_lexer": "ipython3",
   "version": "3.8.10"
  },
  "orig_nbformat": 4,
  "vscode": {
   "interpreter": {
    "hash": "31f2aee4e71d21fbe5cf8b01ff0e069b9275f58929596ceb00d14d90e3e16cd6"
   }
  }
 },
 "nbformat": 4,
 "nbformat_minor": 2
}
